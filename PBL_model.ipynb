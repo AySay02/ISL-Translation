{
  "cells": [
    {
      "cell_type": "code",
      "execution_count": null,
      "metadata": {
        "colab": {
          "base_uri": "https://localhost:8080/"
        },
        "id": "guHDlrdRLMxU",
        "outputId": "be8896dd-dd7b-4517-aa54-4f2e3224c230"
      },
      "outputs": [
        {
          "output_type": "stream",
          "name": "stdout",
          "text": [
            "Looking in indexes: https://pypi.org/simple, https://us-python.pkg.dev/colab-wheels/public/simple/\n",
            "Collecting mediapipe\n",
            "  Downloading mediapipe-0.10.0-cp310-cp310-manylinux_2_17_x86_64.manylinux2014_x86_64.whl (33.9 MB)\n",
            "\u001b[2K     \u001b[90m━━━━━━━━━━━━━━━━━━━━━━━━━━━━━━━━━━━━━━━━\u001b[0m \u001b[32m33.9/33.9 MB\u001b[0m \u001b[31m39.0 MB/s\u001b[0m eta \u001b[36m0:00:00\u001b[0m\n",
            "\u001b[?25hRequirement already satisfied: absl-py in /usr/local/lib/python3.10/dist-packages (from mediapipe) (1.4.0)\n",
            "Requirement already satisfied: attrs>=19.1.0 in /usr/local/lib/python3.10/dist-packages (from mediapipe) (23.1.0)\n",
            "Requirement already satisfied: flatbuffers>=2.0 in /usr/local/lib/python3.10/dist-packages (from mediapipe) (23.3.3)\n",
            "Requirement already satisfied: matplotlib in /usr/local/lib/python3.10/dist-packages (from mediapipe) (3.7.1)\n",
            "Requirement already satisfied: numpy in /usr/local/lib/python3.10/dist-packages (from mediapipe) (1.22.4)\n",
            "Requirement already satisfied: opencv-contrib-python in /usr/local/lib/python3.10/dist-packages (from mediapipe) (4.7.0.72)\n",
            "Requirement already satisfied: protobuf<4,>=3.11 in /usr/local/lib/python3.10/dist-packages (from mediapipe) (3.20.3)\n",
            "Collecting sounddevice>=0.4.4 (from mediapipe)\n",
            "  Downloading sounddevice-0.4.6-py3-none-any.whl (31 kB)\n",
            "Requirement already satisfied: CFFI>=1.0 in /usr/local/lib/python3.10/dist-packages (from sounddevice>=0.4.4->mediapipe) (1.15.1)\n",
            "Requirement already satisfied: contourpy>=1.0.1 in /usr/local/lib/python3.10/dist-packages (from matplotlib->mediapipe) (1.0.7)\n",
            "Requirement already satisfied: cycler>=0.10 in /usr/local/lib/python3.10/dist-packages (from matplotlib->mediapipe) (0.11.0)\n",
            "Requirement already satisfied: fonttools>=4.22.0 in /usr/local/lib/python3.10/dist-packages (from matplotlib->mediapipe) (4.39.3)\n",
            "Requirement already satisfied: kiwisolver>=1.0.1 in /usr/local/lib/python3.10/dist-packages (from matplotlib->mediapipe) (1.4.4)\n",
            "Requirement already satisfied: packaging>=20.0 in /usr/local/lib/python3.10/dist-packages (from matplotlib->mediapipe) (23.1)\n",
            "Requirement already satisfied: pillow>=6.2.0 in /usr/local/lib/python3.10/dist-packages (from matplotlib->mediapipe) (8.4.0)\n",
            "Requirement already satisfied: pyparsing>=2.3.1 in /usr/local/lib/python3.10/dist-packages (from matplotlib->mediapipe) (3.0.9)\n",
            "Requirement already satisfied: python-dateutil>=2.7 in /usr/local/lib/python3.10/dist-packages (from matplotlib->mediapipe) (2.8.2)\n",
            "Requirement already satisfied: pycparser in /usr/local/lib/python3.10/dist-packages (from CFFI>=1.0->sounddevice>=0.4.4->mediapipe) (2.21)\n",
            "Requirement already satisfied: six>=1.5 in /usr/local/lib/python3.10/dist-packages (from python-dateutil>=2.7->matplotlib->mediapipe) (1.16.0)\n",
            "Installing collected packages: sounddevice, mediapipe\n",
            "Successfully installed mediapipe-0.10.0 sounddevice-0.4.6\n"
          ]
        }
      ],
      "source": [
        "!pip install mediapipe"
      ]
    },
    {
      "cell_type": "code",
      "execution_count": null,
      "metadata": {
        "id": "TR1RebSpIqM-"
      },
      "outputs": [],
      "source": [
        "import tensorflow as tf\n",
        "import numpy as np\n",
        "import os\n",
        "import cv2\n",
        "import matplotlib.pyplot as plt\n",
        "import matplotlib.image as mpimg\n",
        "import mediapipe as mp\n",
        "from google.colab import files\n",
        "import zipfile\n",
        "from google.colab import drive"
      ]
    },
    {
      "cell_type": "code",
      "execution_count": null,
      "metadata": {
        "colab": {
          "base_uri": "https://localhost:8080/"
        },
        "id": "Mj-0nzBCNV3l",
        "outputId": "e67902f1-1094-4ab2-bff5-0932414fc96f"
      },
      "outputs": [
        {
          "output_type": "stream",
          "name": "stdout",
          "text": [
            "--2023-06-03 19:52:42--  https://raw.githubusercontent.com/mrdbourke/tensorflow-deep-learning/main/extras/helper_functions.py\n",
            "Resolving raw.githubusercontent.com (raw.githubusercontent.com)... 185.199.109.133, 185.199.110.133, 185.199.108.133, ...\n",
            "Connecting to raw.githubusercontent.com (raw.githubusercontent.com)|185.199.109.133|:443... connected.\n",
            "HTTP request sent, awaiting response... 200 OK\n",
            "Length: 10246 (10K) [text/plain]\n",
            "Saving to: ‘helper_functions.py’\n",
            "\n",
            "\rhelper_functions.py   0%[                    ]       0  --.-KB/s               \rhelper_functions.py 100%[===================>]  10.01K  --.-KB/s    in 0s      \n",
            "\n",
            "2023-06-03 19:52:42 (108 MB/s) - ‘helper_functions.py’ saved [10246/10246]\n",
            "\n"
          ]
        }
      ],
      "source": [
        "!wget https://raw.githubusercontent.com/mrdbourke/tensorflow-deep-learning/main/extras/helper_functions.py"
      ]
    },
    {
      "cell_type": "code",
      "execution_count": null,
      "metadata": {
        "id": "vtmxIaZ7NYHW"
      },
      "outputs": [],
      "source": [
        "from helper_functions import create_tensorboard_callback , plot_loss_curves , unzip_data, walk_through_dir"
      ]
    },
    {
      "cell_type": "markdown",
      "metadata": {
        "id": "k7uJgWSpLTXl"
      },
      "source": [
        "# Data Collection folders setup"
      ]
    },
    {
      "cell_type": "code",
      "execution_count": null,
      "metadata": {
        "colab": {
          "base_uri": "https://localhost:8080/"
        },
        "id": "T5AKric2OuHs",
        "outputId": "fad9e6e5-d562-4fd0-f278-7fd21acfad65"
      },
      "outputs": [
        {
          "output_type": "stream",
          "name": "stdout",
          "text": [
            "Mounted at /content/gdrive\n"
          ]
        }
      ],
      "source": [
        "drive.mount('/content/gdrive')\n",
        "\n",
        "img_path = '/content/gdrive/My Drive/input_dataset/hello/images.jpeg'"
      ]
    },
    {
      "cell_type": "code",
      "execution_count": null,
      "metadata": {
        "id": "0aLGUrtyYKcW"
      },
      "outputs": [],
      "source": [
        "from google.colab.patches import cv2_imshow"
      ]
    },
    {
      "cell_type": "code",
      "execution_count": null,
      "metadata": {
        "colab": {
          "base_uri": "https://localhost:8080/",
          "height": 356
        },
        "id": "lFHh03jZXyi3",
        "outputId": "ce8375c8-739c-4d07-c0f5-2f9d5f778395"
      },
      "outputs": [
        {
          "output_type": "error",
          "ename": "AttributeError",
          "evalue": "ignored",
          "traceback": [
            "\u001b[0;31m---------------------------------------------------------------------------\u001b[0m",
            "\u001b[0;31mAttributeError\u001b[0m                            Traceback (most recent call last)",
            "\u001b[0;32m<ipython-input-8-0e7f347f9c1a>\u001b[0m in \u001b[0;36m<cell line: 4>\u001b[0;34m()\u001b[0m\n\u001b[1;32m      2\u001b[0m \u001b[0;34m\u001b[0m\u001b[0m\n\u001b[1;32m      3\u001b[0m \u001b[0;31m# Display the image\u001b[0m\u001b[0;34m\u001b[0m\u001b[0;34m\u001b[0m\u001b[0m\n\u001b[0;32m----> 4\u001b[0;31m \u001b[0mcv2_imshow\u001b[0m\u001b[0;34m(\u001b[0m\u001b[0mimage\u001b[0m\u001b[0;34m)\u001b[0m\u001b[0;34m\u001b[0m\u001b[0;34m\u001b[0m\u001b[0m\n\u001b[0m\u001b[1;32m      5\u001b[0m \u001b[0mcv2\u001b[0m\u001b[0;34m.\u001b[0m\u001b[0mwaitKey\u001b[0m\u001b[0;34m(\u001b[0m\u001b[0;36m0\u001b[0m\u001b[0;34m)\u001b[0m\u001b[0;34m\u001b[0m\u001b[0;34m\u001b[0m\u001b[0m\n\u001b[1;32m      6\u001b[0m \u001b[0mcv2\u001b[0m\u001b[0;34m.\u001b[0m\u001b[0mdestroyAllWindows\u001b[0m\u001b[0;34m(\u001b[0m\u001b[0;34m)\u001b[0m\u001b[0;34m\u001b[0m\u001b[0;34m\u001b[0m\u001b[0m\n",
            "\u001b[0;32m/usr/local/lib/python3.10/dist-packages/google/colab/patches/__init__.py\u001b[0m in \u001b[0;36mcv2_imshow\u001b[0;34m(a)\u001b[0m\n\u001b[1;32m     16\u001b[0m       \u001b[0;34m(\u001b[0m\u001b[0mN\u001b[0m\u001b[0;34m,\u001b[0m \u001b[0mM\u001b[0m\u001b[0;34m,\u001b[0m \u001b[0;36m4\u001b[0m\u001b[0;34m)\u001b[0m \u001b[0;32mis\u001b[0m \u001b[0man\u001b[0m \u001b[0mNxM\u001b[0m \u001b[0mBGRA\u001b[0m \u001b[0mcolor\u001b[0m \u001b[0mimage\u001b[0m\u001b[0;34m.\u001b[0m\u001b[0;34m\u001b[0m\u001b[0;34m\u001b[0m\u001b[0m\n\u001b[1;32m     17\u001b[0m   \"\"\"\n\u001b[0;32m---> 18\u001b[0;31m   \u001b[0ma\u001b[0m \u001b[0;34m=\u001b[0m \u001b[0ma\u001b[0m\u001b[0;34m.\u001b[0m\u001b[0mclip\u001b[0m\u001b[0;34m(\u001b[0m\u001b[0;36m0\u001b[0m\u001b[0;34m,\u001b[0m \u001b[0;36m255\u001b[0m\u001b[0;34m)\u001b[0m\u001b[0;34m.\u001b[0m\u001b[0mastype\u001b[0m\u001b[0;34m(\u001b[0m\u001b[0;34m'uint8'\u001b[0m\u001b[0;34m)\u001b[0m\u001b[0;34m\u001b[0m\u001b[0;34m\u001b[0m\u001b[0m\n\u001b[0m\u001b[1;32m     19\u001b[0m   \u001b[0;31m# cv2 stores colors as BGR; convert to RGB\u001b[0m\u001b[0;34m\u001b[0m\u001b[0;34m\u001b[0m\u001b[0m\n\u001b[1;32m     20\u001b[0m   \u001b[0;32mif\u001b[0m \u001b[0ma\u001b[0m\u001b[0;34m.\u001b[0m\u001b[0mndim\u001b[0m \u001b[0;34m==\u001b[0m \u001b[0;36m3\u001b[0m\u001b[0;34m:\u001b[0m\u001b[0;34m\u001b[0m\u001b[0;34m\u001b[0m\u001b[0m\n",
            "\u001b[0;31mAttributeError\u001b[0m: 'NoneType' object has no attribute 'clip'"
          ]
        }
      ],
      "source": [
        "image = cv2.imread(img_path)\n",
        "\n",
        "# Display the image\n",
        "cv2_imshow(image)\n",
        "cv2.waitKey(0)\n",
        "cv2.destroyAllWindows()"
      ]
    },
    {
      "cell_type": "code",
      "execution_count": null,
      "metadata": {
        "id": "k_6bxu58b2x_"
      },
      "outputs": [],
      "source": [
        "def convert_images(input_folder_path , output_folder_path):\n",
        "  if not os.path.exists(output_folder_path):\n",
        "    os.makedirs(output_folder_path)\n",
        "\n",
        "# Initialize the Mediapipe Holistic model\n",
        "  mp_holistic = mp.solutions.holistic\n",
        "\n",
        "  # Loop over all image files in the input folder\n",
        "  i=0;\n",
        "  for filename in os.listdir(input_folder_path):\n",
        "      # Check if the file is an image file\n",
        "      if filename.endswith('.jpg') or filename.endswith('.jpeg') or filename.endswith('.png'):\n",
        "          # Define the path to the input image file\n",
        "          input_image_path = os.path.join(input_folder_path, filename)\n",
        "\n",
        "          # Load the input image\n",
        "          input_image = cv2.imread(input_image_path)\n",
        "\n",
        "          # Convert the image to RGB format\n",
        "          input_image = cv2.cvtColor(input_image, cv2.COLOR_BGR2RGB)\n",
        "\n",
        "          # Initialize the Holistic model and process the input image\n",
        "          with mp_holistic.Holistic(min_detection_confidence=0.5, min_tracking_confidence=0.5) as holistic:\n",
        "              results = holistic.process(input_image)\n",
        "\n",
        "          # Extract the pose, face, left hand, and right hand landmarks from the results\n",
        "          pose_landmarks = results.pose_landmarks\n",
        "          face_landmarks = results.face_landmarks\n",
        "          left_hand_landmarks = results.left_hand_landmarks\n",
        "          right_hand_landmarks = results.right_hand_landmarks\n",
        "\n",
        "          # Convert the landmarks to NumPy arrays\n",
        "          pose_landmarks_array = np.array([[lmk.x, lmk.y, lmk.z] for lmk in pose_landmarks.landmark]).flatten() if pose_landmarks else np.zeros(33*4)\n",
        "          face_landmarks_array = np.array([[lmk.x, lmk.y, lmk.z] for lmk in face_landmarks.landmark]).flatten() if face_landmarks else np.zeros(468*3)\n",
        "          left_hand_landmarks_array = np.array([[lmk.x, lmk.y, lmk.z] for lmk in left_hand_landmarks.landmark]).flatten() if left_hand_landmarks else np.zeros(21*3)\n",
        "          right_hand_landmarks_array = np.array([[lmk.x, lmk.y, lmk.z] for lmk in right_hand_landmarks.landmark]).flatten() if right_hand_landmarks else np.zeros(21*3)\n",
        "\n",
        "          main_np = np.concatenate([pose_landmarks_array , face_landmarks_array , left_hand_landmarks_array , right_hand_landmarks_array])\n",
        "          # main_np = np.concatenate([pose_landmarks_array , face_landmarks_array  , right_hand_landmarks_array])\n",
        "\n",
        "\n",
        "\n",
        "          # Define the paths to the output files\n",
        "\n",
        "          # main_np_op_path = os.path.join(output_folder_path , f'{filename}_array.npy')\n",
        "          main_np_op_path = os.path.join(output_folder_path , f'{i}.npy')\n",
        "\n",
        "\n",
        "\n",
        "          # Save the landmarks as NumPy arrays\n",
        "          np.save(main_np_op_path , main_np)\n",
        "          i = i+1\n",
        ""
      ]
    },
    {
      "cell_type": "code",
      "execution_count": null,
      "metadata": {
        "id": "fWKtur_swkzv"
      },
      "outputs": [],
      "source": [
        "def get_npArray(imagePath):\n",
        "  mp_holistics = mp.solutions.holistic\n",
        "  input_image = cv2.imread(imagePath)\n",
        "  input_image = cv2.cvtColor(input_image, cv2.COLOR_BGR2RGB)\n",
        "\n",
        "  with mp_holistics.Holistic(min_detection_confidence=0.5, min_tracking_confidence=0.5) as holistic:\n",
        "    results = holistic.process(input_image)\n",
        "\n",
        "  pose_landmarks = results.pose_landmarks\n",
        "  face_landmarks = results.face_landmarks\n",
        "  left_hand_landmarks = results.left_hand_landmarks\n",
        "  right_hand_landmarks = results.right_hand_landmarks\n",
        "\n",
        "          # Convert the landmarks to NumPy arrays\n",
        "  pose_landmarks_array = np.array([[lmk.x, lmk.y, lmk.z] for lmk in pose_landmarks.landmark]).flatten() if pose_landmarks else np.zeros(33*4)\n",
        "  face_landmarks_array = np.array([[lmk.x, lmk.y, lmk.z] for lmk in face_landmarks.landmark]).flatten() if face_landmarks else np.zeros(468*3)\n",
        "  left_hand_landmarks_array = np.array([[lmk.x, lmk.y, lmk.z] for lmk in left_hand_landmarks.landmark]).flatten() if left_hand_landmarks else np.zeros(21*3)\n",
        "  right_hand_landmarks_array = np.array([[lmk.x, lmk.y, lmk.z] for lmk in right_hand_landmarks.landmark]).flatten() if right_hand_landmarks else np.zeros(21*3)\n",
        "\n",
        "  # getting main concatenated array\n",
        "  main_np = np.concatenate([pose_landmarks_array , face_landmarks_array , left_hand_landmarks_array , right_hand_landmarks_array] , dtype=object)\n",
        "  resized = np.reshape(main_np, [1,1629])\n",
        "  return resized"
      ]
    },
    {
      "cell_type": "code",
      "execution_count": null,
      "metadata": {
        "id": "og8hXCjcxaMm"
      },
      "outputs": [],
      "source": [
        "test_path = '/content/gdrive/My Drive/custom_test/iloveyou.jpg'\n",
        "\n",
        "test_arr = get_npArray(test_path)"
      ]
    },
    {
      "cell_type": "code",
      "execution_count": null,
      "metadata": {
        "colab": {
          "base_uri": "https://localhost:8080/"
        },
        "id": "EHIQFlk6yABj",
        "outputId": "70587fc3-e276-4f02-b48c-7a0882bc4c3c"
      },
      "outputs": [
        {
          "output_type": "execute_result",
          "data": {
            "text/plain": [
              "TensorShape([1, 1629])"
            ]
          },
          "metadata": {},
          "execution_count": 10
        }
      ],
      "source": [
        "# l = tf.convert_to_tensor(test_arr , dtype=np.float32)\n",
        "# l_ = tf.reshape(l, [1,1629])\n",
        "# l_.shape\n",
        "\n",
        "l = tf.convert_to_tensor(test_arr , dtype=np.float32)\n",
        "l.shape\n"
      ]
    },
    {
      "cell_type": "markdown",
      "metadata": {
        "id": "MoqItykZ1ANx"
      },
      "source": [
        "**FOR ILOVEYOU IMAGE CONVERSION**"
      ]
    },
    {
      "cell_type": "code",
      "execution_count": null,
      "metadata": {
        "id": "Yc7ZQAqx03wV"
      },
      "outputs": [],
      "source": [
        "input_path_ily = '/content/gdrive/My Drive/input_dataset/iloveyou'\n",
        "output_path_ily = '/content/gdrive/My Drive/output_dataset_np/iloveyou'\n",
        "\n",
        "convert_images(input_folder_path=input_path_ily , output_folder_path=output_path_ily)"
      ]
    },
    {
      "cell_type": "markdown",
      "metadata": {
        "id": "XEuPoVa912aw"
      },
      "source": [
        "**FOR HELLO CONVERSION**"
      ]
    },
    {
      "cell_type": "code",
      "execution_count": null,
      "metadata": {
        "id": "ci2Cwdzc1fvE"
      },
      "outputs": [],
      "source": [
        "input_path_hello = '/content/gdrive/My Drive/input_dataset/hello'\n",
        "output_path_hello = '/content/gdrive/My Drive/output_dataset_np/hello'\n",
        "\n",
        "convert_images(input_folder_path=input_path_hello , output_folder_path=output_path_hello)"
      ]
    },
    {
      "cell_type": "markdown",
      "metadata": {
        "id": "-gOZ42Fo2OjI"
      },
      "source": [
        "**FOR FRIEND IMAGE CONVERSION**"
      ]
    },
    {
      "cell_type": "code",
      "execution_count": null,
      "metadata": {
        "id": "HIq0WEBt2N5W"
      },
      "outputs": [],
      "source": [
        "input_path_friend = '/content/gdrive/My Drive/input_dataset/friend'\n",
        "output_path_friend = '/content/gdrive/My Drive/output_dataset_np/friend'\n",
        "\n",
        "convert_images(input_folder_path=input_path_friend , output_folder_path=output_path_friend)"
      ]
    },
    {
      "cell_type": "markdown",
      "metadata": {
        "id": "W7JfIGRa4KZr"
      },
      "source": [
        "**FOR A CONVERSION**"
      ]
    },
    {
      "cell_type": "code",
      "execution_count": null,
      "metadata": {
        "id": "IxQJD6644I9t",
        "colab": {
          "base_uri": "https://localhost:8080/",
          "height": 200
        },
        "outputId": "4133821a-e7df-4121-cef5-deaaacda802e"
      },
      "outputs": [
        {
          "output_type": "error",
          "ename": "NameError",
          "evalue": "ignored",
          "traceback": [
            "\u001b[0;31m---------------------------------------------------------------------------\u001b[0m",
            "\u001b[0;31mNameError\u001b[0m                                 Traceback (most recent call last)",
            "\u001b[0;32m<ipython-input-1-ce604af6f113>\u001b[0m in \u001b[0;36m<cell line: 4>\u001b[0;34m()\u001b[0m\n\u001b[1;32m      2\u001b[0m \u001b[0moutput_path_A\u001b[0m \u001b[0;34m=\u001b[0m \u001b[0;34m'/content/gdrive/My Drive/output_dataset_np/A'\u001b[0m\u001b[0;34m\u001b[0m\u001b[0;34m\u001b[0m\u001b[0m\n\u001b[1;32m      3\u001b[0m \u001b[0;34m\u001b[0m\u001b[0m\n\u001b[0;32m----> 4\u001b[0;31m \u001b[0mconvert_images\u001b[0m\u001b[0;34m(\u001b[0m\u001b[0minput_folder_path\u001b[0m\u001b[0;34m=\u001b[0m\u001b[0minput_path_A\u001b[0m \u001b[0;34m,\u001b[0m \u001b[0moutput_folder_path\u001b[0m\u001b[0;34m=\u001b[0m\u001b[0moutput_path_A\u001b[0m\u001b[0;34m)\u001b[0m\u001b[0;34m\u001b[0m\u001b[0;34m\u001b[0m\u001b[0m\n\u001b[0m",
            "\u001b[0;31mNameError\u001b[0m: name 'convert_images' is not defined"
          ]
        }
      ],
      "source": [
        "input_path_A = '/content/gdrive/My Drive/input_dataset/A'\n",
        "output_path_A = '/content/gdrive/My Drive/output_dataset_np/A'\n",
        "\n",
        "convert_images(input_folder_path=input_path_A , output_folder_path=output_path_A)"
      ]
    },
    {
      "cell_type": "markdown",
      "metadata": {
        "id": "BZ6yrHDW742b"
      },
      "source": [
        "for 7 conversion"
      ]
    },
    {
      "cell_type": "code",
      "execution_count": null,
      "metadata": {
        "id": "rZ9m3o8j5XlD",
        "colab": {
          "base_uri": "https://localhost:8080/",
          "height": 200
        },
        "outputId": "bffa17e6-be39-45ea-b1e1-9e8037c8d7af"
      },
      "outputs": [
        {
          "output_type": "error",
          "ename": "NameError",
          "evalue": "ignored",
          "traceback": [
            "\u001b[0;31m---------------------------------------------------------------------------\u001b[0m",
            "\u001b[0;31mNameError\u001b[0m                                 Traceback (most recent call last)",
            "\u001b[0;32m<ipython-input-2-62d4ca6568ef>\u001b[0m in \u001b[0;36m<cell line: 4>\u001b[0;34m()\u001b[0m\n\u001b[1;32m      2\u001b[0m \u001b[0moutput_path_7\u001b[0m \u001b[0;34m=\u001b[0m \u001b[0;34m'/content/gdrive/My Drive/output_dataset_np/7'\u001b[0m\u001b[0;34m\u001b[0m\u001b[0;34m\u001b[0m\u001b[0m\n\u001b[1;32m      3\u001b[0m \u001b[0;34m\u001b[0m\u001b[0m\n\u001b[0;32m----> 4\u001b[0;31m \u001b[0mconvert_images\u001b[0m\u001b[0;34m(\u001b[0m\u001b[0minput_folder_path\u001b[0m\u001b[0;34m=\u001b[0m\u001b[0minput_path_7\u001b[0m \u001b[0;34m,\u001b[0m \u001b[0moutput_folder_path\u001b[0m\u001b[0;34m=\u001b[0m\u001b[0moutput_path_7\u001b[0m\u001b[0;34m)\u001b[0m\u001b[0;34m\u001b[0m\u001b[0;34m\u001b[0m\u001b[0m\n\u001b[0m",
            "\u001b[0;31mNameError\u001b[0m: name 'convert_images' is not defined"
          ]
        }
      ],
      "source": [
        "input_path_7 = '/content/gdrive/My Drive/input_dataset/7'\n",
        "output_path_7 = '/content/gdrive/My Drive/output_dataset_np/7'\n",
        "\n",
        "convert_images(input_folder_path=input_path_7 , output_folder_path=output_path_7)"
      ]
    },
    {
      "cell_type": "markdown",
      "metadata": {
        "id": "4rWR0_jw77D-"
      },
      "source": [
        "# DATA PREPROCESSING"
      ]
    },
    {
      "cell_type": "code",
      "execution_count": null,
      "metadata": {
        "colab": {
          "base_uri": "https://localhost:8080/"
        },
        "id": "BaUlnAup7Ikq",
        "outputId": "0c1ade3e-123c-48eb-f7df-b0f150a499b0"
      },
      "outputs": [
        {
          "output_type": "stream",
          "name": "stdout",
          "text": [
            "There are 5 directories and 0 images in '/content/gdrive/My Drive/output_dataset_np'.\n",
            "There are 0 directories and 70 images in '/content/gdrive/My Drive/output_dataset_np/7'.\n",
            "There are 0 directories and 70 images in '/content/gdrive/My Drive/output_dataset_np/A'.\n",
            "There are 0 directories and 70 images in '/content/gdrive/My Drive/output_dataset_np/iloveyou'.\n",
            "There are 0 directories and 70 images in '/content/gdrive/My Drive/output_dataset_np/hello'.\n",
            "There are 0 directories and 70 images in '/content/gdrive/My Drive/output_dataset_np/friend'.\n"
          ]
        }
      ],
      "source": [
        "op_path = '/content/gdrive/My Drive/output_dataset_np'\n",
        "walk_through_dir(op_path)"
      ]
    },
    {
      "cell_type": "code",
      "execution_count": null,
      "metadata": {
        "id": "WAhZZyoW9XqQ"
      },
      "outputs": [],
      "source": [
        "actions = np.array(['hello', 'iloveyou' , 'friend' , 'A' , '7'])\n",
        "\n"
      ]
    },
    {
      "cell_type": "code",
      "execution_count": null,
      "metadata": {
        "id": "_5A4QRs98KtY"
      },
      "outputs": [],
      "source": [
        "from sklearn.model_selection import train_test_split\n",
        "from tensorflow.keras.utils import to_categorical"
      ]
    },
    {
      "cell_type": "code",
      "execution_count": null,
      "metadata": {
        "id": "AET-AhNn9TNT"
      },
      "outputs": [],
      "source": [
        "label_map = {label:num for num, label in enumerate(actions)}"
      ]
    },
    {
      "cell_type": "code",
      "execution_count": null,
      "metadata": {
        "colab": {
          "base_uri": "https://localhost:8080/"
        },
        "id": "xaBv7T-p9pi8",
        "outputId": "fc4ed332-f91c-4c3e-e50c-9ea48ff1202d"
      },
      "outputs": [
        {
          "output_type": "execute_result",
          "data": {
            "text/plain": [
              "{'hello': 0, 'iloveyou': 1, 'friend': 2, 'A': 3, '7': 4}"
            ]
          },
          "metadata": {},
          "execution_count": 13
        }
      ],
      "source": [
        "label_map"
      ]
    },
    {
      "cell_type": "code",
      "execution_count": null,
      "metadata": {
        "id": "pOt1burJ9q-Q"
      },
      "outputs": [],
      "source": [
        "sequence_length = 1\n",
        "no_sequences = 70\n",
        "sequences, labels = [], []\n",
        "for action in actions:\n",
        "    for sequence in range(no_sequences):\n",
        "    # for sequence in np.array(os.listdir(os.path.join(op_path, action))).astype(int):\n",
        "        window = []\n",
        "        for frame_num in range(sequence_length):\n",
        "            res = np.load(os.path.join(op_path, action,  \"{}.npy\".format(frame_num)))\n",
        "            window.append(res)\n",
        "        sequences.append(window)\n",
        "        labels.append(label_map[action])\n"
      ]
    },
    {
      "cell_type": "code",
      "execution_count": null,
      "metadata": {
        "colab": {
          "base_uri": "https://localhost:8080/"
        },
        "id": "UIzjsniC2zuJ",
        "outputId": "40c2116b-dece-4107-9243-1f4c9da0b309"
      },
      "outputs": [
        {
          "output_type": "execute_result",
          "data": {
            "text/plain": [
              "[array([ 0.5593257 ,  0.58682394, -1.42962551, ...,  0.15085964,\n",
              "         0.3057456 , -0.04163384])]"
            ]
          },
          "metadata": {},
          "execution_count": 15
        }
      ],
      "source": [
        "sequences[0]"
      ]
    },
    {
      "cell_type": "code",
      "execution_count": null,
      "metadata": {
        "colab": {
          "base_uri": "https://localhost:8080/"
        },
        "id": "M3q6MBlIcvFg",
        "outputId": "36bf49f3-6d64-4caf-e34a-b0d97daca7a9"
      },
      "outputs": [
        {
          "output_type": "execute_result",
          "data": {
            "text/plain": [
              "TensorShape([1, 1629])"
            ]
          },
          "metadata": {},
          "execution_count": 18
        }
      ],
      "source": [
        "a = tf.convert_to_tensor(sequences[0] , dtype=np.float32)\n",
        "a.shape"
      ]
    },
    {
      "cell_type": "code",
      "execution_count": null,
      "metadata": {
        "colab": {
          "base_uri": "https://localhost:8080/"
        },
        "id": "59Y8cOkszTDj",
        "outputId": "48177a50-9831-4f90-8ed0-bed7e3e80657"
      },
      "outputs": [
        {
          "output_type": "execute_result",
          "data": {
            "text/plain": [
              "True"
            ]
          },
          "metadata": {},
          "execution_count": 19
        }
      ],
      "source": [
        "a.shape == l.shape"
      ]
    },
    {
      "cell_type": "code",
      "execution_count": null,
      "metadata": {
        "colab": {
          "base_uri": "https://localhost:8080/"
        },
        "id": "BPJjQwno-IPK",
        "outputId": "63ced61b-f59b-4397-e2c6-5d179cbbe942"
      },
      "outputs": [
        {
          "output_type": "execute_result",
          "data": {
            "text/plain": [
              "(350, 1, 1629)"
            ]
          },
          "metadata": {},
          "execution_count": 15
        }
      ],
      "source": [
        "np.array(sequences , dtype=object).shape"
      ]
    },
    {
      "cell_type": "code",
      "execution_count": null,
      "metadata": {
        "colab": {
          "base_uri": "https://localhost:8080/"
        },
        "id": "HMpy570iCkny",
        "outputId": "092806dd-ac1c-4774-d29f-ec9c6509a6d3"
      },
      "outputs": [
        {
          "output_type": "execute_result",
          "data": {
            "text/plain": [
              "(350,)"
            ]
          },
          "metadata": {},
          "execution_count": 16
        }
      ],
      "source": [
        "np.array(labels).shape"
      ]
    },
    {
      "cell_type": "markdown",
      "metadata": {
        "id": "M_FFBXtxgzF-"
      },
      "source": [
        "Getting X and Y"
      ]
    },
    {
      "cell_type": "code",
      "execution_count": null,
      "metadata": {
        "colab": {
          "base_uri": "https://localhost:8080/"
        },
        "id": "QIeqKEmegVx-",
        "outputId": "75f8d3aa-a2f2-476d-eadc-3e2619f12b50"
      },
      "outputs": [
        {
          "output_type": "execute_result",
          "data": {
            "text/plain": [
              "(350, 1, 1629)"
            ]
          },
          "metadata": {},
          "execution_count": 15
        }
      ],
      "source": [
        "X = np.array(sequences , dtype=object)\n",
        "X.shape\n",
        "\n"
      ]
    },
    {
      "cell_type": "code",
      "execution_count": null,
      "metadata": {
        "colab": {
          "base_uri": "https://localhost:8080/"
        },
        "id": "NkVUsLmTg5j_",
        "outputId": "18c51f48-04dd-4aa2-d356-69c3a97875f8"
      },
      "outputs": [
        {
          "output_type": "execute_result",
          "data": {
            "text/plain": [
              "array([[1, 0, 0, 0, 0],\n",
              "       [1, 0, 0, 0, 0],\n",
              "       [1, 0, 0, 0, 0],\n",
              "       ...,\n",
              "       [0, 0, 0, 0, 1],\n",
              "       [0, 0, 0, 0, 1],\n",
              "       [0, 0, 0, 0, 1]])"
            ]
          },
          "metadata": {},
          "execution_count": 16
        }
      ],
      "source": [
        "Y = to_categorical(labels).astype(int)\n",
        "Y"
      ]
    },
    {
      "cell_type": "code",
      "execution_count": null,
      "metadata": {
        "colab": {
          "base_uri": "https://localhost:8080/"
        },
        "id": "WeW3KK9fhZIL",
        "outputId": "a26487a0-3c9c-493c-9028-32ca87011cb9"
      },
      "outputs": [
        {
          "output_type": "execute_result",
          "data": {
            "text/plain": [
              "(350, 5)"
            ]
          },
          "metadata": {},
          "execution_count": 22
        }
      ],
      "source": [
        "Y.shape"
      ]
    },
    {
      "cell_type": "code",
      "execution_count": null,
      "metadata": {
        "id": "eRkpEY9Dhcop"
      },
      "outputs": [],
      "source": [
        "X_train, X_test, y_train, y_test = train_test_split(X, Y, test_size=0.1)"
      ]
    },
    {
      "cell_type": "code",
      "execution_count": null,
      "metadata": {
        "colab": {
          "base_uri": "https://localhost:8080/"
        },
        "id": "6vfH7cLMhu2g",
        "outputId": "8b0878ad-0628-425e-a48d-bf14f0bd79e4"
      },
      "outputs": [
        {
          "output_type": "execute_result",
          "data": {
            "text/plain": [
              "((315, 1, 1629), (315, 5), (1, 1629))"
            ]
          },
          "metadata": {},
          "execution_count": 20
        }
      ],
      "source": [
        "X_train.shape , y_train.shape , X_test[2].shape"
      ]
    },
    {
      "cell_type": "code",
      "execution_count": null,
      "metadata": {
        "colab": {
          "base_uri": "https://localhost:8080/"
        },
        "id": "vjkqJI9Feb0y",
        "outputId": "3219046a-5f01-48ad-9f9f-642cbdebe4d4"
      },
      "outputs": [
        {
          "output_type": "execute_result",
          "data": {
            "text/plain": [
              "(35, 5)"
            ]
          },
          "metadata": {},
          "execution_count": 21
        }
      ],
      "source": [
        "y_test.shape"
      ]
    },
    {
      "cell_type": "markdown",
      "metadata": {
        "id": "zIZVJvNWh_Vo"
      },
      "source": [
        "# Building the Model"
      ]
    },
    {
      "cell_type": "code",
      "execution_count": null,
      "metadata": {
        "id": "idoYVJ1-tvkK"
      },
      "outputs": [],
      "source": [
        "X_train_tf =  tf.convert_to_tensor(X_train, dtype=tf.float32)\n",
        "y_train_tf =  tf.convert_to_tensor(y_train, dtype=tf.float32)"
      ]
    },
    {
      "cell_type": "code",
      "source": [
        "X_test_tf = tf.convert_to_tensor(X_test, dtype=tf.float32)"
      ],
      "metadata": {
        "id": "Frz4-uukwkVM"
      },
      "execution_count": null,
      "outputs": []
    },
    {
      "cell_type": "code",
      "execution_count": null,
      "metadata": {
        "colab": {
          "base_uri": "https://localhost:8080/"
        },
        "id": "jxp1XZWNt03b",
        "outputId": "8d90fb83-460a-43a8-9c84-fbb8c4acb2c5"
      },
      "outputs": [
        {
          "output_type": "execute_result",
          "data": {
            "text/plain": [
              "TensorShape([315, 1, 1629])"
            ]
          },
          "metadata": {},
          "execution_count": 27
        }
      ],
      "source": [
        "X_train_tf.shape"
      ]
    },
    {
      "cell_type": "code",
      "execution_count": null,
      "metadata": {
        "colab": {
          "base_uri": "https://localhost:8080/"
        },
        "id": "UiMtrcTd8u-c",
        "outputId": "6f49a5ab-ec61-4f3c-f7ba-2d93c7d65b7d"
      },
      "outputs": [
        {
          "output_type": "execute_result",
          "data": {
            "text/plain": [
              "(1, 1629)"
            ]
          },
          "metadata": {},
          "execution_count": 28
        }
      ],
      "source": [
        "X_train[0].shape"
      ]
    },
    {
      "cell_type": "code",
      "execution_count": null,
      "metadata": {
        "id": "ZYA5fumZhw1-"
      },
      "outputs": [],
      "source": [
        "from tensorflow.keras import Sequential\n",
        "from tensorflow.keras.layers import Dense , LSTM , Conv2D, MaxPool2D, Flatten , Embedding , Reshape"
      ]
    },
    {
      "cell_type": "markdown",
      "metadata": {
        "id": "39LYYMrRdHmV"
      },
      "source": [
        "# LSTM model"
      ]
    },
    {
      "cell_type": "code",
      "execution_count": null,
      "metadata": {
        "id": "F5b0H_S7G0mQ"
      },
      "outputs": [],
      "source": [
        "tf.keras.backend.clear_session()"
      ]
    },
    {
      "cell_type": "code",
      "execution_count": null,
      "metadata": {
        "colab": {
          "base_uri": "https://localhost:8080/"
        },
        "id": "VG4SM___iOyn",
        "outputId": "3fc84ffc-eba6-4ce3-8983-457041e5975e"
      },
      "outputs": [
        {
          "output_type": "stream",
          "name": "stderr",
          "text": [
            "WARNING:tensorflow:Layer lstm will not use cuDNN kernels since it doesn't meet the criteria. It will use a generic GPU kernel as fallback when running on GPU.\n",
            "WARNING:tensorflow:Layer lstm_1 will not use cuDNN kernels since it doesn't meet the criteria. It will use a generic GPU kernel as fallback when running on GPU.\n",
            "WARNING:tensorflow:Layer lstm_2 will not use cuDNN kernels since it doesn't meet the criteria. It will use a generic GPU kernel as fallback when running on GPU.\n"
          ]
        }
      ],
      "source": [
        "INPUT_SHAPE = (1,1629)\n",
        "\n",
        "\n",
        "\n",
        "model = Sequential()\n",
        "# model.add(tf.keras.layers.Reshape((1, INPUT_SHAPE[0])))\n",
        "model.add(LSTM(64, return_sequences=True, activation='relu', input_shape=INPUT_SHAPE))\n",
        "model.add(LSTM(128, return_sequences=True, activation='relu'))\n",
        "model.add(LSTM(64, return_sequences=False, activation='relu'))\n",
        "model.add(Dense(64, activation='relu'))\n",
        "model.add(Dense(32, activation='relu'))\n",
        "model.add(Dense(actions.shape[0], activation='softmax'))"
      ]
    },
    {
      "cell_type": "code",
      "source": [
        "from keras.utils.vis_utils import plot_model"
      ],
      "metadata": {
        "id": "M2HAEqe15Hi0"
      },
      "execution_count": null,
      "outputs": []
    },
    {
      "cell_type": "code",
      "source": [
        "plot_model(model , show_shapes = True , show_layer_names = True)"
      ],
      "metadata": {
        "colab": {
          "base_uri": "https://localhost:8080/",
          "height": 754
        },
        "id": "rIUP4Ni05Wtz",
        "outputId": "6a849b61-53e8-4485-ba55-066bbf33c900"
      },
      "execution_count": null,
      "outputs": [
        {
          "output_type": "execute_result",
          "data": {
            "image/png": "[encoded data removed]",
            "text/plain": [
              "<IPython.core.display.Image object>"
            ]
          },
          "metadata": {},
          "execution_count": 24
        }
      ]
    },
    {
      "cell_type": "code",
      "execution_count": null,
      "metadata": {
        "colab": {
          "base_uri": "https://localhost:8080/"
        },
        "id": "BloLuDixsmy2",
        "outputId": "6841d25e-d0c8-424e-c870-aed1e676d97f"
      },
      "outputs": [
        {
          "output_type": "execute_result",
          "data": {
            "text/plain": [
              "(1629,)"
            ]
          },
          "metadata": {},
          "execution_count": 32
        }
      ],
      "source": [
        "alpha = np.load('/content/gdrive/My Drive/output_dataset_np/A/0.npy')\n",
        "alpha.shape"
      ]
    },
    {
      "cell_type": "code",
      "execution_count": null,
      "metadata": {
        "id": "CTmhZs82kbHv"
      },
      "outputs": [],
      "source": [
        "model.compile(loss = \"categorical_crossentropy\",\n",
        "              optimizer = tf.keras.optimizers.Adam(),\n",
        "              metrics = [\"accuracy\"])"
      ]
    },
    {
      "cell_type": "code",
      "execution_count": null,
      "metadata": {
        "colab": {
          "base_uri": "https://localhost:8080/"
        },
        "id": "a0y7WYiMnHyc",
        "outputId": "86a6139f-6b6a-4060-d0cd-c5bfefc6711e"
      },
      "outputs": [
        {
          "output_type": "stream",
          "name": "stdout",
          "text": [
            "Epoch 1/50\n",
            "10/10 [==============================] - 15s 175ms/step - loss: 1.6089 - accuracy: 0.1873 - val_loss: 1.6034 - val_accuracy: 0.4857\n",
            "Epoch 2/50\n",
            "10/10 [==============================] - 1s 68ms/step - loss: 1.5828 - accuracy: 0.5778 - val_loss: 1.5197 - val_accuracy: 0.4857\n",
            "Epoch 3/50\n",
            "10/10 [==============================] - 1s 68ms/step - loss: 1.3613 - accuracy: 0.3714 - val_loss: 1.0555 - val_accuracy: 0.6571\n",
            "Epoch 4/50\n",
            "10/10 [==============================] - 1s 100ms/step - loss: 0.9527 - accuracy: 0.5079 - val_loss: 0.7864 - val_accuracy: 0.6571\n",
            "Epoch 5/50\n",
            "10/10 [==============================] - 1s 77ms/step - loss: 0.7827 - accuracy: 0.6095 - val_loss: 0.5796 - val_accuracy: 0.6000\n",
            "Epoch 6/50\n",
            "10/10 [==============================] - 0s 38ms/step - loss: 0.7490 - accuracy: 0.6159 - val_loss: 0.5969 - val_accuracy: 0.6000\n",
            "Epoch 7/50\n",
            "10/10 [==============================] - 0s 38ms/step - loss: 0.6601 - accuracy: 0.6317 - val_loss: 0.5661 - val_accuracy: 0.6000\n",
            "Epoch 8/50\n",
            "10/10 [==============================] - 0s 37ms/step - loss: 0.5653 - accuracy: 0.7746 - val_loss: 0.4230 - val_accuracy: 0.8286\n",
            "Epoch 9/50\n",
            "10/10 [==============================] - 0s 35ms/step - loss: 0.4417 - accuracy: 0.8254 - val_loss: 0.2598 - val_accuracy: 0.8286\n",
            "Epoch 10/50\n",
            "10/10 [==============================] - 0s 16ms/step - loss: 0.2121 - accuracy: 0.9746 - val_loss: 0.1084 - val_accuracy: 1.0000\n",
            "Epoch 11/50\n",
            "10/10 [==============================] - 0s 19ms/step - loss: 0.2204 - accuracy: 0.9079 - val_loss: 0.0423 - val_accuracy: 1.0000\n",
            "Epoch 12/50\n",
            "10/10 [==============================] - 0s 19ms/step - loss: 0.4479 - accuracy: 0.8159 - val_loss: 0.1191 - val_accuracy: 1.0000\n",
            "Epoch 13/50\n",
            "10/10 [==============================] - 0s 19ms/step - loss: 0.1023 - accuracy: 1.0000 - val_loss: 0.0465 - val_accuracy: 1.0000\n",
            "Epoch 14/50\n",
            "10/10 [==============================] - 0s 16ms/step - loss: 0.0550 - accuracy: 1.0000 - val_loss: 0.0455 - val_accuracy: 1.0000\n",
            "Epoch 15/50\n",
            "10/10 [==============================] - 0s 18ms/step - loss: 0.0264 - accuracy: 1.0000 - val_loss: 0.0114 - val_accuracy: 1.0000\n",
            "Epoch 16/50\n",
            "10/10 [==============================] - 0s 18ms/step - loss: 0.0099 - accuracy: 1.0000 - val_loss: 0.0061 - val_accuracy: 1.0000\n",
            "Epoch 17/50\n",
            "10/10 [==============================] - 0s 18ms/step - loss: 0.0057 - accuracy: 1.0000 - val_loss: 0.0038 - val_accuracy: 1.0000\n",
            "Epoch 18/50\n",
            "10/10 [==============================] - 0s 19ms/step - loss: 0.0037 - accuracy: 1.0000 - val_loss: 0.0027 - val_accuracy: 1.0000\n",
            "Epoch 19/50\n",
            "10/10 [==============================] - 0s 18ms/step - loss: 0.0026 - accuracy: 1.0000 - val_loss: 0.0018 - val_accuracy: 1.0000\n",
            "Epoch 20/50\n",
            "10/10 [==============================] - 0s 18ms/step - loss: 0.0019 - accuracy: 1.0000 - val_loss: 0.0015 - val_accuracy: 1.0000\n",
            "Epoch 21/50\n",
            "10/10 [==============================] - 0s 18ms/step - loss: 0.0015 - accuracy: 1.0000 - val_loss: 0.0011 - val_accuracy: 1.0000\n",
            "Epoch 22/50\n",
            "10/10 [==============================] - 0s 18ms/step - loss: 0.0012 - accuracy: 1.0000 - val_loss: 9.0966e-04 - val_accuracy: 1.0000\n",
            "Epoch 23/50\n",
            "10/10 [==============================] - 0s 18ms/step - loss: 9.2707e-04 - accuracy: 1.0000 - val_loss: 7.1289e-04 - val_accuracy: 1.0000\n",
            "Epoch 24/50\n",
            "10/10 [==============================] - 0s 20ms/step - loss: 7.0669e-04 - accuracy: 1.0000 - val_loss: 5.4038e-04 - val_accuracy: 1.0000\n",
            "Epoch 25/50\n",
            "10/10 [==============================] - 0s 18ms/step - loss: 5.4221e-04 - accuracy: 1.0000 - val_loss: 3.8985e-04 - val_accuracy: 1.0000\n",
            "Epoch 26/50\n",
            "10/10 [==============================] - 0s 17ms/step - loss: 3.6269e-04 - accuracy: 1.0000 - val_loss: 2.4460e-04 - val_accuracy: 1.0000\n",
            "Epoch 27/50\n",
            "10/10 [==============================] - 0s 17ms/step - loss: 2.1720e-04 - accuracy: 1.0000 - val_loss: 1.3334e-04 - val_accuracy: 1.0000\n",
            "Epoch 28/50\n",
            "10/10 [==============================] - 0s 20ms/step - loss: 1.1368e-04 - accuracy: 1.0000 - val_loss: 6.9858e-05 - val_accuracy: 1.0000\n",
            "Epoch 29/50\n",
            "10/10 [==============================] - 0s 18ms/step - loss: 6.1688e-05 - accuracy: 1.0000 - val_loss: 3.8159e-05 - val_accuracy: 1.0000\n",
            "Epoch 30/50\n",
            "10/10 [==============================] - 0s 20ms/step - loss: 3.5217e-05 - accuracy: 1.0000 - val_loss: 2.4604e-05 - val_accuracy: 1.0000\n",
            "Epoch 31/50\n",
            "10/10 [==============================] - 0s 19ms/step - loss: 2.2672e-05 - accuracy: 1.0000 - val_loss: 1.5895e-05 - val_accuracy: 1.0000\n",
            "Epoch 32/50\n",
            "10/10 [==============================] - 0s 18ms/step - loss: 1.4628e-05 - accuracy: 1.0000 - val_loss: 1.0875e-05 - val_accuracy: 1.0000\n",
            "Epoch 33/50\n",
            "10/10 [==============================] - 0s 20ms/step - loss: 1.0162e-05 - accuracy: 1.0000 - val_loss: 8.0380e-06 - val_accuracy: 1.0000\n",
            "Epoch 34/50\n",
            "10/10 [==============================] - 0s 19ms/step - loss: 7.5741e-06 - accuracy: 1.0000 - val_loss: 6.2806e-06 - val_accuracy: 1.0000\n",
            "Epoch 35/50\n",
            "10/10 [==============================] - 0s 18ms/step - loss: 5.9438e-06 - accuracy: 1.0000 - val_loss: 5.0987e-06 - val_accuracy: 1.0000\n",
            "Epoch 36/50\n",
            "10/10 [==============================] - 0s 17ms/step - loss: 4.8596e-06 - accuracy: 1.0000 - val_loss: 4.1927e-06 - val_accuracy: 1.0000\n",
            "Epoch 37/50\n",
            "10/10 [==============================] - 0s 17ms/step - loss: 4.0781e-06 - accuracy: 1.0000 - val_loss: 3.6001e-06 - val_accuracy: 1.0000\n",
            "Epoch 38/50\n",
            "10/10 [==============================] - 0s 19ms/step - loss: 3.4695e-06 - accuracy: 1.0000 - val_loss: 3.0620e-06 - val_accuracy: 1.0000\n",
            "Epoch 39/50\n",
            "10/10 [==============================] - 0s 19ms/step - loss: 3.0052e-06 - accuracy: 1.0000 - val_loss: 2.6941e-06 - val_accuracy: 1.0000\n",
            "Epoch 40/50\n",
            "10/10 [==============================] - 0s 19ms/step - loss: 2.6631e-06 - accuracy: 1.0000 - val_loss: 2.3876e-06 - val_accuracy: 1.0000\n",
            "Epoch 41/50\n",
            "10/10 [==============================] - 0s 20ms/step - loss: 2.3895e-06 - accuracy: 1.0000 - val_loss: 2.1492e-06 - val_accuracy: 1.0000\n",
            "Epoch 42/50\n",
            "10/10 [==============================] - 0s 17ms/step - loss: 2.1681e-06 - accuracy: 1.0000 - val_loss: 1.9380e-06 - val_accuracy: 1.0000\n",
            "Epoch 43/50\n",
            "10/10 [==============================] - 0s 17ms/step - loss: 1.9259e-06 - accuracy: 1.0000 - val_loss: 1.7711e-06 - val_accuracy: 1.0000\n",
            "Epoch 44/50\n",
            "10/10 [==============================] - 0s 17ms/step - loss: 1.7473e-06 - accuracy: 1.0000 - val_loss: 1.6315e-06 - val_accuracy: 1.0000\n",
            "Epoch 45/50\n",
            "10/10 [==============================] - 0s 20ms/step - loss: 1.5951e-06 - accuracy: 1.0000 - val_loss: 1.4986e-06 - val_accuracy: 1.0000\n",
            "Epoch 46/50\n",
            "10/10 [==============================] - 0s 20ms/step - loss: 1.4608e-06 - accuracy: 1.0000 - val_loss: 1.3420e-06 - val_accuracy: 1.0000\n",
            "Epoch 47/50\n",
            "10/10 [==============================] - 0s 18ms/step - loss: 1.3382e-06 - accuracy: 1.0000 - val_loss: 1.2466e-06 - val_accuracy: 1.0000\n",
            "Epoch 48/50\n",
            "10/10 [==============================] - 0s 18ms/step - loss: 1.2557e-06 - accuracy: 1.0000 - val_loss: 1.1717e-06 - val_accuracy: 1.0000\n",
            "Epoch 49/50\n",
            "10/10 [==============================] - 0s 18ms/step - loss: 1.1501e-06 - accuracy: 1.0000 - val_loss: 1.0899e-06 - val_accuracy: 1.0000\n",
            "Epoch 50/50\n",
            "10/10 [==============================] - 0s 17ms/step - loss: 1.0767e-06 - accuracy: 1.0000 - val_loss: 9.7411e-07 - val_accuracy: 1.0000\n"
          ]
        }
      ],
      "source": [
        "model_hist = model.fit(X_train_tf, y_train_tf, epochs=50,\n",
        "                       validation_data = (X_test_tf, tf.convert_to_tensor(y_test, dtype=tf.float32)))"
      ]
    },
    {
      "cell_type": "code",
      "execution_count": null,
      "metadata": {
        "colab": {
          "base_uri": "https://localhost:8080/"
        },
        "id": "MWCq9QfLnRbl",
        "outputId": "2c13276a-2971-4126-9032-0ac26cac2350"
      },
      "outputs": [
        {
          "output_type": "stream",
          "name": "stdout",
          "text": [
            "2/2 [==============================] - 0s 8ms/step - loss: 9.7411e-07 - accuracy: 1.0000\n"
          ]
        },
        {
          "output_type": "execute_result",
          "data": {
            "text/plain": [
              "[9.741091844261973e-07, 1.0]"
            ]
          },
          "metadata": {},
          "execution_count": 27
        }
      ],
      "source": [
        "model.evaluate(tf.convert_to_tensor(X_test, dtype=tf.float32) , tf.convert_to_tensor(y_test, dtype=tf.float32))\n",
        "# model.predict(X_test[0])"
      ]
    },
    {
      "cell_type": "code",
      "execution_count": null,
      "metadata": {
        "id": "I2qIiZQLv849",
        "colab": {
          "base_uri": "https://localhost:8080/"
        },
        "outputId": "808ae1f8-b615-4ff6-9353-4277a97bde4f"
      },
      "outputs": [
        {
          "output_type": "stream",
          "name": "stdout",
          "text": [
            "2/2 [==============================] - 1s 15ms/step\n"
          ]
        }
      ],
      "source": [
        "predictions = model.predict(tf.convert_to_tensor(X_test , dtype =tf.float32))"
      ]
    },
    {
      "cell_type": "code",
      "source": [
        "predictions[0]"
      ],
      "metadata": {
        "colab": {
          "base_uri": "https://localhost:8080/"
        },
        "id": "ToE9unoz6KOJ",
        "outputId": "cce404e2-3930-46e6-c301-055055ec8881"
      },
      "execution_count": null,
      "outputs": [
        {
          "output_type": "execute_result",
          "data": {
            "text/plain": [
              "array([3.9817482e-07, 9.9994397e-01, 5.4291078e-09, 5.5703262e-05,\n",
              "       8.6316303e-14], dtype=float32)"
            ]
          },
          "metadata": {},
          "execution_count": 33
        }
      ]
    },
    {
      "cell_type": "code",
      "source": [
        "from sklearn.metrics import multilabel_confusion_matrix"
      ],
      "metadata": {
        "id": "nmySRChP6VLb"
      },
      "execution_count": null,
      "outputs": []
    },
    {
      "cell_type": "code",
      "source": [
        "tf.round(predictions)[:10]"
      ],
      "metadata": {
        "colab": {
          "base_uri": "https://localhost:8080/"
        },
        "id": "yId9-L3Q6p87",
        "outputId": "fdfbf8c4-fd42-4f4b-f9a4-badea93af09a"
      },
      "execution_count": null,
      "outputs": [
        {
          "output_type": "execute_result",
          "data": {
            "text/plain": [
              "<tf.Tensor: shape=(10, 5), dtype=float32, numpy=\n",
              "array([[0., 0., 0., 0., 1.],\n",
              "       [0., 0., 0., 0., 1.],\n",
              "       [0., 0., 0., 0., 1.],\n",
              "       [0., 0., 0., 1., 0.],\n",
              "       [0., 1., 0., 0., 0.],\n",
              "       [0., 1., 0., 0., 0.],\n",
              "       [0., 0., 1., 0., 0.],\n",
              "       [1., 0., 0., 0., 0.],\n",
              "       [0., 0., 0., 0., 1.],\n",
              "       [1., 0., 0., 0., 0.]], dtype=float32)>"
            ]
          },
          "metadata": {},
          "execution_count": 31
        }
      ]
    },
    {
      "cell_type": "code",
      "source": [
        "multilabel_confusion_matrix(y_test , tf.round(predictions))"
      ],
      "metadata": {
        "colab": {
          "base_uri": "https://localhost:8080/"
        },
        "id": "VJBBuzxq69j7",
        "outputId": "648ed49a-6958-4504-beb0-762c8233c4b1"
      },
      "execution_count": null,
      "outputs": [
        {
          "output_type": "execute_result",
          "data": {
            "text/plain": [
              "array([[[27,  0],\n",
              "        [ 0,  8]],\n",
              "\n",
              "       [[29,  0],\n",
              "        [ 0,  6]],\n",
              "\n",
              "       [[29,  0],\n",
              "        [ 0,  6]],\n",
              "\n",
              "       [[31,  0],\n",
              "        [ 0,  4]],\n",
              "\n",
              "       [[24,  0],\n",
              "        [ 0, 11]]])"
            ]
          },
          "metadata": {},
          "execution_count": 32
        }
      ]
    },
    {
      "cell_type": "code",
      "source": [
        "from sklearn.metrics import accuracy_score , precision_recall_fscore_support\n",
        "\n",
        "def calculate_results(y_true , y_pred):\n",
        "  model_accuracy = accuracy_score(y_true , y_pred)*100\n",
        "  # calculate model pres , recall , f1 score using \"weighted\" average\n",
        "  model_precision , model_recall , model_f1 , _ = precision_recall_fscore_support(y_true , y_pred , average = \"weighted\")\n",
        "  model_results = {\"accuracy\" : model_accuracy,\n",
        "                   \"precison\" : model_precision,\n",
        "                   \"recall\": model_recall,\n",
        "                   \"F1 score\" : model_f1}\n",
        "  return model_results"
      ],
      "metadata": {
        "id": "uQWOyjl90zgC"
      },
      "execution_count": null,
      "outputs": []
    },
    {
      "cell_type": "code",
      "source": [
        "def make_confusion_matrix(y_true, y_pred, classes=None, figsize=(5, 5), text_size=15):\n",
        "  \"\"\"Makes a labelled confusion matrix comparing predictions and ground truth labels.\n",
        "\n",
        "  If classes is passed, confusion matrix will be labelled, if not, integer class values\n",
        "  will be used.\n",
        "\n",
        "  Args:\n",
        "    y_true: Array of truth labels (must be same shape as y_pred).\n",
        "    y_pred: Array of predicted labels (must be same shape as y_true).\n",
        "    classes: Array of class labels (e.g. string form). If `None`, integer labels are used.\n",
        "    figsize: Size of output figure (default=(10, 10)).\n",
        "    text_size: Size of output figure text (default=15).\n",
        "\n",
        "  Returns:\n",
        "    A labelled confusion matrix plot comparing y_true and y_pred.\n",
        "\n",
        "  Example usage:\n",
        "    make_confusion_matrix(y_true=test_labels, # ground truth test labels\n",
        "                          y_pred=y_preds, # predicted labels\n",
        "                          classes=class_names, # array of class label names\n",
        "                          figsize=(15, 15),\n",
        "                          text_size=10)\n",
        "  \"\"\"\n",
        "  # Create the confustion matrix\n",
        "  cm = multilabel_confusion_matrix(y_true, tf.round(y_pred))\n",
        "  cm_norm = cm.astype(\"float\") / cm.sum(axis=1)[:, np.newaxis] # normalize it\n",
        "  n_classes = cm.shape[0] # find the number of classes we're dealing with\n",
        "\n",
        "  # Plot the figure and make it pretty\n",
        "  fig, ax = plt.subplots(figsize=figsize)\n",
        "  cax = ax.matshow(cm, cmap=plt.cm.Blues) # colors will represent how 'correct' a class is, darker == better\n",
        "  fig.colorbar(cax)\n",
        "\n",
        "  # Are there a list of classes?\n",
        "  if classes:\n",
        "    labels = classes\n",
        "  else:\n",
        "    labels = np.arange(cm.shape[0])\n",
        "\n",
        "  # Label the axes\n",
        "  ax.set(title=\"Confusion Matrix\",\n",
        "         xlabel=\"Predicted label\",\n",
        "         ylabel=\"True label\",\n",
        "         xticks=np.arange(n_classes), # create enough axis slots for each class\n",
        "         yticks=np.arange(n_classes),\n",
        "         xticklabels=labels, # axes will labeled with class names (if they exist) or ints\n",
        "         yticklabels=labels)\n",
        "\n",
        "  # Make x-axis labels appear on bottom\n",
        "  ax.xaxis.set_label_position(\"bottom\")\n",
        "  ax.xaxis.tick_bottom()\n",
        "\n",
        "  # Set the threshold for different colors\n",
        "  threshold = (cm.max() + cm.min()) / 2.\n",
        "\n",
        "  # Plot the text on each cell\n",
        "  for i, j in itertools.product(range(cm.shape[0]), range(cm.shape[1])):\n",
        "    plt.text(j, i, f\"{cm[i, j]} ({cm_norm[i, j]*100:.1f}%)\",\n",
        "             horizontalalignment=\"center\",\n",
        "             color=\"white\" if cm[i, j] > threshold else \"black\",\n",
        "             size=text_size)"
      ],
      "metadata": {
        "id": "rCVoYTsv8YdT"
      },
      "execution_count": null,
      "outputs": []
    },
    {
      "cell_type": "code",
      "source": [
        "import matplotlib.pyplot as plt\n",
        "\n",
        "\n",
        "def visualize_continuous_multioutput(y_true, y_pred):\n",
        "    plt.scatter(y_true, y_pred)\n",
        "    plt.xlabel('True Values')\n",
        "    plt.ylabel('Predicted Values')\n",
        "    plt.title('Continuous Multioutput Predictions')\n",
        "    plt.show()"
      ],
      "metadata": {
        "id": "flCpOVREt4s6"
      },
      "execution_count": null,
      "outputs": []
    },
    {
      "cell_type": "code",
      "source": [
        "def generate_metric_labels(metric_name, num_classes):\n",
        "    labels = [f\"{metric_name} - Class {i+1}\" for i in range(num_classes)]\n",
        "    return labels\n"
      ],
      "metadata": {
        "id": "2C9b-Zi6vHlU"
      },
      "execution_count": null,
      "outputs": []
    },
    {
      "cell_type": "code",
      "source": [
        "num_classes = 5\n",
        "\n",
        "precision_labels = generate_metric_labels(\"Precision\", num_classes)\n",
        "recall_labels = generate_metric_labels(\"Recall\", num_classes)\n",
        "f1_labels = generate_metric_labels(\"F1-Score\", num_classes)\n",
        "\n",
        "labels = np.array([precision_labels , recall_labels, f1_labels])\n",
        "\n",
        "# Example usage of visualize_multilabel_metrics with custom metric labels\n",
        "# visualize_multilabel_metrics(y_true, y_pred, precision_labels)\n",
        "# visualize_multilabel_metrics(y_true, y_pred, recall_labels)\n",
        "# visualize_multilabel_metrics(y_true, y_pred, f1_labels)\n"
      ],
      "metadata": {
        "id": "YBV1OHYSvIU2"
      },
      "execution_count": null,
      "outputs": []
    },
    {
      "cell_type": "code",
      "source": [
        "import numpy as np\n",
        "import matplotlib.pyplot as plt\n",
        "from sklearn.metrics import precision_score, recall_score, f1_score\n",
        "\n",
        "\n",
        "def visualize_multilabel_metrics(y_true, y_pred, labels):\n",
        "    precision = precision_score(y_true, y_pred, average=None)\n",
        "    recall = recall_score(y_true, y_pred, average=None)\n",
        "    f1 = f1_score(y_true, y_pred, average=None)\n",
        "\n",
        "    x = np.arange(len(labels))\n",
        "    width = 0.25\n",
        "\n",
        "    fig, ax = plt.subplots(figsize=(10, 6))\n",
        "    ax.bar(x - width, precision, width, label='Precision')\n",
        "    ax.bar(x, recall, width, label='Recall')\n",
        "    ax.bar(x + width, f1, width, label='F1-Score')\n",
        "\n",
        "    ax.set_xticks(x)\n",
        "    ax.set_xticklabels(labels)\n",
        "    ax.legend()\n",
        "    ax.set_xlabel('Labels')\n",
        "    ax.set_ylabel('Score')\n",
        "    ax.set_title('Multilabel Classification Metrics')\n",
        "\n",
        "    plt.show()\n"
      ],
      "metadata": {
        "id": "J1pHzMM8uNGJ"
      },
      "execution_count": null,
      "outputs": []
    },
    {
      "cell_type": "markdown",
      "source": [
        "# Plot"
      ],
      "metadata": {
        "id": "EML0FNcNxRGe"
      }
    },
    {
      "cell_type": "code",
      "source": [
        "plot_loss_curves(model_hist)"
      ],
      "metadata": {
        "colab": {
          "base_uri": "https://localhost:8080/",
          "height": 927
        },
        "id": "ZMyGPu7wvo1h",
        "outputId": "cb05c33a-5ea0-4cba-ce34-cc998141f6dc"
      },
      "execution_count": null,
      "outputs": [
        {
          "output_type": "display_data",
          "data": {
            "text/plain": [
              "<Figure size 640x480 with 1 Axes>"
            ],
            "image/png": "[encoded data removed]"
          },
          "metadata": {}
        },
        {
          "output_type": "display_data",
          "data": {
            "text/plain": [
              "<Figure size 640x480 with 1 Axes>"
            ],
            "image/png": "[encoded data removed]"
          },
          "metadata": {}
        }
      ]
    },
    {
      "cell_type": "code",
      "execution_count": null,
      "metadata": {
        "id": "OcyLHN8L0AIL",
        "colab": {
          "base_uri": "https://localhost:8080/"
        },
        "outputId": "6d52efde-32a5-4c3a-ae5b-6f17b0601969"
      },
      "outputs": [
        {
          "output_type": "execute_result",
          "data": {
            "text/plain": [
              "((1, 1629), (1, 1629), 35)"
            ]
          },
          "metadata": {},
          "execution_count": 40
        }
      ],
      "source": [
        "X_test[0].shape , test_arr.shape , len(X_test)"
      ]
    },
    {
      "cell_type": "markdown",
      "metadata": {
        "id": "03_lAH5izdqs"
      },
      "source": [
        "# TESTING ON CUSTOM DATASET"
      ]
    },
    {
      "cell_type": "code",
      "execution_count": null,
      "metadata": {
        "colab": {
          "base_uri": "https://localhost:8080/"
        },
        "id": "1stjx-GW0pm3",
        "outputId": "724c1aa4-fd2b-4ddd-dd79-2f0e0a684f8e"
      },
      "outputs": [
        {
          "data": {
            "text/plain": [
              "TensorShape([1, 1629])"
            ]
          },
          "execution_count": 20,
          "metadata": {},
          "output_type": "execute_result"
        }
      ],
      "source": [
        "path2 = '/content/gdrive/My Drive/custom_test/hello.jpg'\n",
        "\n",
        "test2 = get_npArray(path2)\n",
        "\n",
        "test2_tf = tf.convert_to_tensor(test2 , dtype=np.float32)\n",
        "test2_tf.shape\n",
        "# test2_tf_ = tf.reshape(test2_tf , [None, 1 , 1629])\n",
        "\n",
        "\n",
        "#l_ = tf.reshape(l, [1,1629])"
      ]
    },
    {
      "cell_type": "code",
      "execution_count": null,
      "metadata": {
        "colab": {
          "base_uri": "https://localhost:8080/"
        },
        "id": "sPv3deeZ3wdU",
        "outputId": "64c57e0f-ae5c-4634-8789-2249f5f56f9e"
      },
      "outputs": [
        {
          "data": {
            "text/plain": [
              "array([[0.42233672738075256, 0.73638516664505, -0.7922444939613342, ...,\n",
              "        0.0, 0.0, 0.0]], dtype=object)"
            ]
          },
          "execution_count": 21,
          "metadata": {},
          "output_type": "execute_result"
        }
      ],
      "source": [
        "path3 = '/content/gdrive/My Drive/custom_test/7.jpg'\n",
        "path_7 = '/content/gdrive/My Drive/input_dataset/7/37.jpg'\n",
        "\n",
        "test3 = get_npArray(path3)\n",
        "test7 = get_npArray(path_7)\n",
        "test7"
      ]
    },
    {
      "cell_type": "code",
      "execution_count": null,
      "metadata": {
        "id": "lvlmhWSf4_-V"
      },
      "outputs": [],
      "source": [
        "model.predict(tf.convert_to_tensor(test7 , dtype=np.float32))"
      ]
    },
    {
      "cell_type": "code",
      "execution_count": null,
      "metadata": {
        "id": "4cSSFPPNBBii"
      },
      "outputs": [],
      "source": [
        "path_bhat = '/content/gdrive/My Drive/custom_test/hello.jpg'\n",
        "\n",
        "test_b = get_npArray(path_bhat)"
      ]
    },
    {
      "cell_type": "markdown",
      "metadata": {
        "id": "El_LNyDt8cBv"
      },
      "source": [
        "# solution"
      ]
    },
    {
      "cell_type": "code",
      "execution_count": null,
      "metadata": {
        "colab": {
          "base_uri": "https://localhost:8080/"
        },
        "id": "DEVWE1Im53X2",
        "outputId": "ac350eab-e806-4d77-eb07-c244765b2927"
      },
      "outputs": [
        {
          "data": {
            "text/plain": [
              "array([[[0.39035019278526306, 0.6369215846061707, -1.103866457939148,\n",
              "         ..., 0.0, 0.0, 0.0]]], dtype=object)"
            ]
          },
          "execution_count": 86,
          "metadata": {},
          "output_type": "execute_result"
        }
      ],
      "source": [
        "u = []\n",
        "u.append(test_b)\n",
        "u = np.asarray(u)\n",
        "u"
      ]
    },
    {
      "cell_type": "code",
      "execution_count": null,
      "metadata": {
        "colab": {
          "base_uri": "https://localhost:8080/"
        },
        "id": "7Vnlce6973JA",
        "outputId": "10e0183a-91e6-4270-9325-74df4c6f96cb"
      },
      "outputs": [
        {
          "data": {
            "text/plain": [
              "((1, 1, 1629), (35, 1, 1, 1629))"
            ]
          },
          "execution_count": 56,
          "metadata": {},
          "output_type": "execute_result"
        }
      ],
      "source": [
        "u.shape , X_test.shape"
      ]
    },
    {
      "cell_type": "code",
      "execution_count": null,
      "metadata": {
        "id": "qPtt4ZQN6NHy"
      },
      "outputs": [],
      "source": [
        "test3.shape , X_test.shape"
      ]
    },
    {
      "cell_type": "code",
      "execution_count": null,
      "metadata": {
        "colab": {
          "base_uri": "https://localhost:8080/"
        },
        "id": "tQLLmZfn6EMn",
        "outputId": "31565972-54c4-4329-98e3-9c2d70817d6e"
      },
      "outputs": [
        {
          "name": "stdout",
          "output_type": "stream",
          "text": [
            "1/1 [==============================] - 0s 21ms/step\n"
          ]
        }
      ],
      "source": [
        "u_pred = model.predict(tf.convert_to_tensor(u , dtype=np.float32))"
      ]
    },
    {
      "cell_type": "code",
      "execution_count": null,
      "metadata": {
        "colab": {
          "base_uri": "https://localhost:8080/",
          "height": 36
        },
        "id": "wD-aEIdJ8FZ4",
        "outputId": "ac272350-5f15-476b-b17b-8242f501a747"
      },
      "outputs": [
        {
          "data": {
            "application/vnd.google.colaboratory.intrinsic+json": {
              "type": "string"
            },
            "text/plain": [
              "'7'"
            ]
          },
          "execution_count": 88,
          "metadata": {},
          "output_type": "execute_result"
        }
      ],
      "source": [
        "actions[np.argmax(u_pred)]"
      ]
    },
    {
      "cell_type": "code",
      "execution_count": null,
      "metadata": {
        "id": "5kaakwM93c15"
      },
      "outputs": [],
      "source": [
        "tf.convert_to_tensor(X_test[0] , dtype=np.float32)"
      ]
    },
    {
      "cell_type": "code",
      "execution_count": null,
      "metadata": {
        "id": "1jiA0zGyxiei"
      },
      "outputs": [],
      "source": [
        "np.sum(predictions[0])"
      ]
    },
    {
      "cell_type": "code",
      "execution_count": null,
      "metadata": {
        "id": "_uSB3iS3xqjr"
      },
      "outputs": [],
      "source": [
        "for i in range(len(predictions)):\n",
        "  print(actions[np.argmax(predictions[i])] == actions[np.argmax(y_test[i])])"
      ]
    },
    {
      "cell_type": "code",
      "execution_count": null,
      "metadata": {
        "id": "Dm9JPm86zivP"
      },
      "outputs": [],
      "source": [
        "# t1 = '/content/gdrive/My Drive/custom_test'\n",
        "# t2 = '/content/gdrive/My Drive/custom_test/np'\n",
        "\n",
        "# convert_images(t1 , t2)"
      ]
    },
    {
      "cell_type": "code",
      "execution_count": null,
      "metadata": {
        "id": "Yq8RR0IO6VJX",
        "colab": {
          "base_uri": "https://localhost:8080/"
        },
        "outputId": "a9daacd5-2951-4882-d544-b47cc687c914"
      },
      "outputs": [
        {
          "output_type": "stream",
          "name": "stderr",
          "text": [
            "WARNING:absl:Found untraced functions such as _update_step_xla while saving (showing 1 of 1). These functions will not be directly callable after loading.\n"
          ]
        }
      ],
      "source": [
        "model.save(\"Saved_trained_models\")"
      ]
    },
    {
      "cell_type": "code",
      "execution_count": null,
      "metadata": {
        "id": "aDl4x5fg9m5e"
      },
      "outputs": [],
      "source": [
        "import tensorflow as tf"
      ]
    },
    {
      "cell_type": "code",
      "execution_count": null,
      "metadata": {
        "id": "nKjSfjU-9ycU",
        "colab": {
          "base_uri": "https://localhost:8080/"
        },
        "outputId": "db6aadfe-59cd-454c-e586-e9faa30eed82"
      },
      "outputs": [
        {
          "output_type": "stream",
          "name": "stderr",
          "text": [
            "WARNING:tensorflow:Layer lstm_1 will not use cuDNN kernels since it doesn't meet the criteria. It will use a generic GPU kernel as fallback when running on GPU.\n",
            "WARNING:tensorflow:Layer lstm_2 will not use cuDNN kernels since it doesn't meet the criteria. It will use a generic GPU kernel as fallback when running on GPU.\n",
            "WARNING:tensorflow:Layer lstm_3 will not use cuDNN kernels since it doesn't meet the criteria. It will use a generic GPU kernel as fallback when running on GPU.\n"
          ]
        }
      ],
      "source": [
        "model_ = tf.keras.models.load_model(\"Saved_trained_models\")"
      ]
    }
  ],
  "metadata": {
    "accelerator": "GPU",
    "colab": {
      "provenance": [],
      "toc_visible": true,
      "authorship_tag": "ABX9TyNAr4rrtU31eVXbQZUXwmg0"
    },
    "gpuClass": "standard",
    "kernelspec": {
      "display_name": "Python 3",
      "name": "python3"
    },
    "language_info": {
      "name": "python"
    }
  },
  "nbformat": 4,
  "nbformat_minor": 0
}